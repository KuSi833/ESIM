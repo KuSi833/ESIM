{
 "cells": [
  {
   "cell_type": "code",
   "execution_count": 10,
   "outputs": [
    {
     "name": "stdout",
     "output_type": "stream",
     "text": [
      "Requirement already satisfied: torch in /Users/kmilicic/Coding/University_of_Manchester/natural_language_understanding/ESIM/.venv/lib/python3.9/site-packages (2.1.2.post2)\r\n",
      "Requirement already satisfied: tqdm in /Users/kmilicic/Coding/University_of_Manchester/natural_language_understanding/ESIM/.venv/lib/python3.9/site-packages (4.66.2)\r\n",
      "Requirement already satisfied: filelock in /Users/kmilicic/Coding/University_of_Manchester/natural_language_understanding/ESIM/.venv/lib/python3.9/site-packages (from torch) (3.13.3)\r\n",
      "Requirement already satisfied: typing-extensions in /Users/kmilicic/Coding/University_of_Manchester/natural_language_understanding/ESIM/.venv/lib/python3.9/site-packages (from torch) (4.10.0)\r\n",
      "Requirement already satisfied: sympy in /Users/kmilicic/Coding/University_of_Manchester/natural_language_understanding/ESIM/.venv/lib/python3.9/site-packages (from torch) (1.12)\r\n",
      "Requirement already satisfied: networkx in /Users/kmilicic/Coding/University_of_Manchester/natural_language_understanding/ESIM/.venv/lib/python3.9/site-packages (from torch) (3.2.1)\r\n",
      "Requirement already satisfied: jinja2 in /Users/kmilicic/Coding/University_of_Manchester/natural_language_understanding/ESIM/.venv/lib/python3.9/site-packages (from torch) (3.1.3)\r\n",
      "Requirement already satisfied: fsspec in /Users/kmilicic/Coding/University_of_Manchester/natural_language_understanding/ESIM/.venv/lib/python3.9/site-packages (from torch) (2024.3.1)\r\n",
      "Requirement already satisfied: MarkupSafe>=2.0 in /Users/kmilicic/Coding/University_of_Manchester/natural_language_understanding/ESIM/.venv/lib/python3.9/site-packages (from jinja2->torch) (2.1.5)\r\n",
      "Requirement already satisfied: mpmath>=0.19 in /Users/kmilicic/Coding/University_of_Manchester/natural_language_understanding/ESIM/.venv/lib/python3.9/site-packages (from sympy->torch) (1.3.0)\r\n",
      "Note: you may need to restart the kernel to use updated packages.\n"
     ]
    }
   ],
   "source": [
    "%pip install torch tqdm scikit-learn pandas wget"
   ],
   "metadata": {
    "collapsed": false,
    "ExecuteTime": {
     "end_time": "2024-04-21T21:54:44.811683Z",
     "start_time": "2024-04-21T21:54:43.761621Z"
    }
   },
   "id": "262e2703d4669cb4"
  },
  {
   "cell_type": "code",
   "execution_count": 6,
   "outputs": [],
   "source": [
    "import os\n",
    "import json"
   ],
   "metadata": {
    "collapsed": false,
    "ExecuteTime": {
     "end_time": "2024-04-21T22:29:08.799627Z",
     "start_time": "2024-04-21T22:29:08.797059Z"
    }
   },
   "id": "a461e5490c4427b6"
  },
  {
   "cell_type": "markdown",
   "source": [
    "# Preprocessing"
   ],
   "metadata": {
    "collapsed": false
   },
   "id": "fab717598629cf8e"
  },
  {
   "cell_type": "code",
   "execution_count": 7,
   "outputs": [],
   "source": [
    "from scripts.preprocessing.preprocess_rte_own import preprocess_RTE_data as preprocess"
   ],
   "metadata": {
    "collapsed": false,
    "ExecuteTime": {
     "end_time": "2024-04-21T22:29:10.076051Z",
     "start_time": "2024-04-21T22:29:10.072383Z"
    }
   },
   "id": "8d98d816a173398e"
  },
  {
   "cell_type": "code",
   "execution_count": 8,
   "outputs": [],
   "source": [
    "PREPROCESS_CONFIG_PATH = \"config/preprocessing/rte_own_preprocessing.json\"\n",
    "SCRIPT_DIR = \"scripts/preprocessing/\""
   ],
   "metadata": {
    "collapsed": false,
    "ExecuteTime": {
     "end_time": "2024-04-21T22:29:10.712823Z",
     "start_time": "2024-04-21T22:29:10.706977Z"
    }
   },
   "id": "962fce8b96842be3"
  },
  {
   "cell_type": "code",
   "execution_count": 10,
   "outputs": [
    {
     "name": "stdout",
     "output_type": "stream",
     "text": [
      "====================  Preprocessing train set  ====================\n",
      "\t* Reading data...\n",
      "\t* Computing worddict and saving it...\n",
      "\t* Transforming words in premises and hypotheses to indices...\n",
      "\t* Saving result...\n",
      "====================  Preprocessing dev set  ====================\n",
      "\t* Reading data...\n",
      "\t* Transforming words in premises and hypotheses to indices...\n",
      "\t* Saving result...\n",
      "====================  Preprocessing test set  ====================\n",
      "\t* Reading data...\n",
      "\t* Transforming words in premises and hypotheses to indices...\n",
      "\t* Saving result...\n",
      "====================  Preprocessing embeddings  ====================\n",
      "\t* Building embedding matrix and saving it...\n",
      "Missed words:  27492\n"
     ]
    }
   ],
   "source": [
    "with open(os.path.normpath(PREPROCESS_CONFIG_PATH), \"r\") as cfg_file:\n",
    "    config = json.load(cfg_file)\n",
    "\n",
    "target_path = os.path.normpath(os.path.join(SCRIPT_DIR, config[\"target_dir\"]))\n",
    "\n",
    "preprocess(\n",
    "    os.path.normpath(os.path.join(SCRIPT_DIR, config[\"data_dir\"])),\n",
    "    os.path.normpath(os.path.join(SCRIPT_DIR, config[\"embeddings_file\"])),\n",
    "    target_path,\n",
    "    lowercase=config[\"lowercase\"],\n",
    "    ignore_punctuation=config[\"ignore_punctuation\"],\n",
    "    num_words=config[\"num_words\"],\n",
    "    stopwords=config[\"stopwords\"],\n",
    "    labeldict=config[\"labeldict\"],\n",
    "    bos=config[\"bos\"],\n",
    "    eos=config[\"eos\"]\n",
    ")"
   ],
   "metadata": {
    "collapsed": false,
    "ExecuteTime": {
     "end_time": "2024-04-21T22:32:05.969710Z",
     "start_time": "2024-04-21T22:31:42.111183Z"
    }
   },
   "id": "194e0412b59e7dad"
  },
  {
   "cell_type": "markdown",
   "source": [
    "# Testing"
   ],
   "metadata": {
    "collapsed": false
   },
   "id": "663231378fd8e4d9"
  },
  {
   "cell_type": "code",
   "execution_count": 13,
   "outputs": [],
   "source": [
    "from scripts.testing.test_rte_own import main as test"
   ],
   "metadata": {
    "collapsed": false,
    "ExecuteTime": {
     "end_time": "2024-04-21T22:33:11.071821Z",
     "start_time": "2024-04-21T22:33:11.067080Z"
    }
   },
   "id": "f2a4971d29e43fc9"
  },
  {
   "cell_type": "code",
   "execution_count": 17,
   "id": "initial_id",
   "metadata": {
    "collapsed": true,
    "ExecuteTime": {
     "end_time": "2024-04-21T22:33:43.017497Z",
     "start_time": "2024-04-21T22:33:43.014533Z"
    }
   },
   "outputs": [],
   "source": [
    "PREPROCESSED_TEST_DATA_PATH = os.path.join(target_path, \"test_data.pkl\")\n",
    "CHECKPOINT_PATH = \"./data/checkpoints/RTE_own/best.pth.tar\""
   ]
  },
  {
   "cell_type": "code",
   "execution_count": 18,
   "outputs": [
    {
     "name": "stdout",
     "output_type": "stream",
     "text": [
      "====================  Preparing for testing  ====================\n",
      "\t* Loading test data...\n",
      "\t* Building model...\n",
      "====================  Testing ESIM model on device: cpu  ====================\n"
     ]
    },
    {
     "name": "stderr",
     "output_type": "stream",
     "text": [
      "Processing batches:   0%|          | 0/211 [00:00<?, ?it/s]/Users/kmilicic/Coding/University_of_Manchester/natural_language_understanding/ESIM/src/utils.py:44: UserWarning: To copy construct from a tensor, it is recommended to use sourceTensor.clone().detach() or sourceTensor.clone().detach().requires_grad_(True), rather than tensor.new_tensor(sourceTensor).\n",
      "  sequences_lengths.new_tensor(torch.arange(0, len(sequences_lengths))).to(device)\n",
      "Processing batches: 100%|██████████| 211/211 [01:12<00:00,  2.91it/s]"
     ]
    },
    {
     "name": "stdout",
     "output_type": "stream",
     "text": [
      "-> Average batch processing time: 0.3431s, total test time: 72.6257s\n"
     ]
    },
    {
     "name": "stderr",
     "output_type": "stream",
     "text": [
      "\n"
     ]
    }
   ],
   "source": [
    "test(PREPROCESSED_TEST_DATA_PATH, CHECKPOINT_PATH)"
   ],
   "metadata": {
    "collapsed": false,
    "ExecuteTime": {
     "end_time": "2024-04-21T22:34:57.396058Z",
     "start_time": "2024-04-21T22:33:43.828226Z"
    }
   },
   "id": "982c8a575f1f51f8"
  },
  {
   "cell_type": "markdown",
   "source": [
    "# Evaluation"
   ],
   "metadata": {
    "collapsed": false
   },
   "id": "1111212d8327b824"
  },
  {
   "cell_type": "code",
   "execution_count": 19,
   "outputs": [],
   "source": [
    "from scripts.evaluation.evaluate import main as evaluate"
   ],
   "metadata": {
    "collapsed": false,
    "ExecuteTime": {
     "end_time": "2024-04-21T22:34:58.078483Z",
     "start_time": "2024-04-21T22:34:57.395865Z"
    }
   },
   "id": "d5e15e786a261482"
  },
  {
   "cell_type": "code",
   "execution_count": 20,
   "outputs": [],
   "source": [
    "TEST_DATA_PATH = \"./data/dataset/RTE_own/dev.csv\"\n",
    "PREDICTIONS_PATH = \"./data/results/RTE_own/predictions.csv\""
   ],
   "metadata": {
    "collapsed": false,
    "ExecuteTime": {
     "end_time": "2024-04-21T22:34:58.082730Z",
     "start_time": "2024-04-21T22:34:58.078533Z"
    }
   },
   "id": "34d2993d7abf0170"
  },
  {
   "cell_type": "code",
   "execution_count": 21,
   "outputs": [
    {
     "name": "stdout",
     "output_type": "stream",
     "text": [
      "Accuracy: 70.11%\n",
      "Macro Precision: 70.42%\n",
      "Macro Recall: 69.85%\n",
      "Macro F1 Score: 69.79%\n",
      "Weighted Precision: 70.36%\n",
      "Weighted Recall: 70.11%\n",
      "Weighted F1 Score: 69.89%\n",
      "Matthews Correlation Coefficient (MCC): 40.27%\n"
     ]
    }
   ],
   "source": [
    "evaluate(TEST_DATA_PATH, PREDICTIONS_PATH)"
   ],
   "metadata": {
    "collapsed": false,
    "ExecuteTime": {
     "end_time": "2024-04-21T22:34:58.117733Z",
     "start_time": "2024-04-21T22:34:58.082404Z"
    }
   },
   "id": "9a328ec2bc9eb7ee"
  }
 ],
 "metadata": {
  "kernelspec": {
   "display_name": "Python 3",
   "language": "python",
   "name": "python3"
  },
  "language_info": {
   "codemirror_mode": {
    "name": "ipython",
    "version": 2
   },
   "file_extension": ".py",
   "mimetype": "text/x-python",
   "name": "python",
   "nbconvert_exporter": "python",
   "pygments_lexer": "ipython2",
   "version": "2.7.6"
  }
 },
 "nbformat": 4,
 "nbformat_minor": 5
}
