{
 "cells": [
  {
   "cell_type": "markdown",
   "source": [
    "# Preparation"
   ],
   "metadata": {
    "collapsed": false
   },
   "id": "f5acffc213f3e400"
  },
  {
   "cell_type": "markdown",
   "source": [
    "Make sure you've followed all instructions listed in the `./README.md`. That should include:\n",
    "1. Installing dependencies\n",
    "2. Downloading train, dev and test data\n",
    "3. Downloading the pre-trained model (Optionally you could train it yourself)"
   ],
   "metadata": {
    "collapsed": false
   },
   "id": "e193fc6d3c9c62e9"
  },
  {
   "cell_type": "markdown",
   "source": [
    "## Embeddings"
   ],
   "metadata": {
    "collapsed": false
   },
   "id": "688d7257dd3a7118"
  },
  {
   "cell_type": "code",
   "execution_count": 1,
   "outputs": [
    {
     "name": "stdout",
     "output_type": "stream",
     "text": [
      "==================== Fetching the word embeddings: ====================\n",
      "* Found unzipped data in ./data/embeddings/, skipping download and unzip...\n"
     ]
    }
   ],
   "source": [
    "import os\n",
    "from scripts.fetch_embeddings import download_unzip\n",
    "\n",
    "EMBEDDINGS_PATH = \"./data/embeddings/\"\n",
    "\n",
    "GLOVE_URL = \"http://www-nlp.stanford.edu/data/glove.840B.300d.zip\"\n",
    "\n",
    "if not os.path.exists(EMBEDDINGS_PATH):\n",
    "    os.makedirs(EMBEDDINGS_PATH)\n",
    "\n",
    "print(20*\"=\", \"Fetching the word embeddings:\", 20*\"=\")\n",
    "download_unzip(GLOVE_URL, EMBEDDINGS_PATH)"
   ],
   "metadata": {
    "collapsed": false,
    "ExecuteTime": {
     "end_time": "2024-04-23T13:57:31.724671Z",
     "start_time": "2024-04-23T13:57:31.720121Z"
    }
   },
   "id": "35a16e3bd964407e"
  },
  {
   "cell_type": "markdown",
   "source": [
    "# Preprocessing"
   ],
   "metadata": {
    "collapsed": false
   },
   "id": "fab717598629cf8e"
  },
  {
   "cell_type": "code",
   "execution_count": 2,
   "outputs": [],
   "source": [
    "from scripts.preprocessing.preprocess import preprocess"
   ],
   "metadata": {
    "collapsed": false,
    "ExecuteTime": {
     "end_time": "2024-04-23T13:57:32.521134Z",
     "start_time": "2024-04-23T13:57:31.725461Z"
    }
   },
   "id": "8d98d816a173398e"
  },
  {
   "cell_type": "code",
   "execution_count": 3,
   "outputs": [
    {
     "name": "stdout",
     "output_type": "stream",
     "text": [
      "====================  Preprocessing train set  ====================\n",
      "\t* Reading data...\n",
      "\t* Computing worddict and saving it...\n",
      "\t* Transforming words in premises and hypotheses to indices...\n",
      "\t* Saving result...\n",
      "====================  Preprocessing dev set  ====================\n",
      "\t* Reading data...\n",
      "\t* Transforming words in premises and hypotheses to indices...\n",
      "\t* Saving result...\n",
      "====================  Preprocessing test set  ====================\n",
      "\t* Reading data...\n",
      "\t* Transforming words in premises and hypotheses to indices...\n",
      "\t* Saving result...\n",
      "====================  Preprocessing embeddings  ====================\n",
      "\t* Building embedding matrix and saving it...\n",
      "Missed words:  27492\n"
     ]
    }
   ],
   "source": [
    "DATA_PATH = \"./data/dataset\"\n",
    "EMBEDDINGS_FILE_PATH = os.path.join(EMBEDDINGS_PATH, \"glove.840B.300d.txt\")\n",
    "TARGET_PATH = \"./data/preprocessed\"\n",
    "\n",
    "preprocess(\n",
    "    DATA_PATH,\n",
    "    EMBEDDINGS_FILE_PATH,\n",
    "    TARGET_PATH,\n",
    "    lowercase=False,\n",
    "    ignore_punctuation=False,\n",
    "    num_words=None,\n",
    "    stopwords=[],\n",
    "    labeldict= { \"1\": 1, \"0\": 0 },\n",
    "    bos=\"_BOS_\",\n",
    "    eos=\"_EOS_\",\n",
    ")"
   ],
   "metadata": {
    "collapsed": false,
    "ExecuteTime": {
     "end_time": "2024-04-23T13:57:56.288790Z",
     "start_time": "2024-04-23T13:57:32.522101Z"
    }
   },
   "id": "194e0412b59e7dad"
  },
  {
   "cell_type": "markdown",
   "source": [
    "# Testing"
   ],
   "metadata": {
    "collapsed": false
   },
   "id": "663231378fd8e4d9"
  },
  {
   "cell_type": "code",
   "execution_count": 4,
   "outputs": [],
   "source": [
    "from scripts.testing.test import main as test"
   ],
   "metadata": {
    "collapsed": false,
    "ExecuteTime": {
     "end_time": "2024-04-23T13:57:56.293644Z",
     "start_time": "2024-04-23T13:57:56.289084Z"
    }
   },
   "id": "f2a4971d29e43fc9"
  },
  {
   "cell_type": "code",
   "execution_count": 5,
   "id": "initial_id",
   "metadata": {
    "collapsed": true,
    "ExecuteTime": {
     "end_time": "2024-04-23T13:58:02.817010Z",
     "start_time": "2024-04-23T13:57:56.295329Z"
    }
   },
   "outputs": [
    {
     "name": "stdout",
     "output_type": "stream",
     "text": [
      "====================  Preparing for testing  ====================\n",
      "\t* Loading test data...\n",
      "\t* Building model...\n",
      "====================  Testing ESIM model on device: cpu  ====================\n"
     ]
    },
    {
     "name": "stderr",
     "output_type": "stream",
     "text": [
      "Processing batches:   0%|          | 0/104 [00:00<?, ?it/s]/Users/kmilicic/Coding/University_of_Manchester/natural_language_understanding/ESIM/src/utils.py:44: UserWarning: To copy construct from a tensor, it is recommended to use sourceTensor.clone().detach() or sourceTensor.clone().detach().requires_grad_(True), rather than tensor.new_tensor(sourceTensor).\n",
      "  sequences_lengths.new_tensor(torch.arange(0, len(sequences_lengths))).to(device)\n",
      "Processing batches: 100%|██████████| 104/104 [00:06<00:00, 16.93it/s]"
     ]
    },
    {
     "name": "stdout",
     "output_type": "stream",
     "text": [
      "-> Average batch processing time: 0.0584s, total test time: 6.1701s\n"
     ]
    },
    {
     "name": "stderr",
     "output_type": "stream",
     "text": [
      "\n"
     ]
    }
   ],
   "source": [
    "PREPROCESSED_TEST_DATA_PATH = os.path.join(TARGET_PATH, \"test_data.pkl\")\n",
    "CHECKPOINT_PATH = \"./data/checkpoints/best.pth.tar\"\n",
    "test(PREPROCESSED_TEST_DATA_PATH, CHECKPOINT_PATH, \"predictions.csv\")"
   ]
  },
  {
   "cell_type": "code",
   "execution_count": 6,
   "outputs": [
    {
     "name": "stdout",
     "output_type": "stream",
     "text": [
      "====================  Preparing for testing  ====================\n",
      "\t* Loading test data...\n",
      "\t* Building model...\n",
      "====================  Testing ESIM model on device: cpu  ====================\n"
     ]
    },
    {
     "name": "stderr",
     "output_type": "stream",
     "text": [
      "Processing batches: 100%|██████████| 211/211 [00:19<00:00, 10.87it/s]"
     ]
    },
    {
     "name": "stdout",
     "output_type": "stream",
     "text": [
      "-> Average batch processing time: 0.0914s, total test time: 19.4268s\n"
     ]
    },
    {
     "name": "stderr",
     "output_type": "stream",
     "text": [
      "\n"
     ]
    }
   ],
   "source": [
    "PREPROCESSED_DEV_DATA_PATH = os.path.join(TARGET_PATH, \"dev_data.pkl\")\n",
    "test(PREPROCESSED_DEV_DATA_PATH, CHECKPOINT_PATH, \"dev_predictions.csv\")"
   ],
   "metadata": {
    "collapsed": false,
    "ExecuteTime": {
     "end_time": "2024-04-23T13:58:22.664741Z",
     "start_time": "2024-04-23T13:58:02.815879Z"
    }
   },
   "id": "1bcdc24aea5a9617"
  },
  {
   "cell_type": "markdown",
   "source": [
    "# Evaluation"
   ],
   "metadata": {
    "collapsed": false
   },
   "id": "1111212d8327b824"
  },
  {
   "cell_type": "markdown",
   "source": [
    "Performing evaluation only od dev set as we don't have access to the ground truth labels for the test set."
   ],
   "metadata": {
    "collapsed": false
   },
   "id": "25e8aef984e9ebf7"
  },
  {
   "cell_type": "code",
   "execution_count": 7,
   "outputs": [
    {
     "name": "stdout",
     "output_type": "stream",
     "text": [
      "Accuracy: 70.11%\n",
      "Macro Precision: 70.42%\n",
      "Macro Recall: 69.85%\n",
      "Macro F1 Score: 69.79%\n",
      "Weighted Precision: 70.36%\n",
      "Weighted Recall: 70.11%\n",
      "Weighted F1 Score: 69.89%\n",
      "Matthews Correlation Coefficient (MCC): 40.27%\n"
     ]
    }
   ],
   "source": [
    "from scripts.evaluation.evaluate import main as evaluate\n",
    "\n",
    "TEST_DATA_PATH = \"./data/dataset/dev.csv\"\n",
    "PREDICTIONS_PATH = \"./data/results/dev_predictions.csv\"\n",
    "evaluate(TEST_DATA_PATH, PREDICTIONS_PATH)"
   ],
   "metadata": {
    "collapsed": false,
    "ExecuteTime": {
     "end_time": "2024-04-23T13:58:23.547627Z",
     "start_time": "2024-04-23T13:58:22.664456Z"
    }
   },
   "id": "9a328ec2bc9eb7ee"
  }
 ],
 "metadata": {
  "kernelspec": {
   "display_name": "Python 3",
   "language": "python",
   "name": "python3"
  },
  "language_info": {
   "codemirror_mode": {
    "name": "ipython",
    "version": 2
   },
   "file_extension": ".py",
   "mimetype": "text/x-python",
   "name": "python",
   "nbconvert_exporter": "python",
   "pygments_lexer": "ipython2",
   "version": "2.7.6"
  }
 },
 "nbformat": 4,
 "nbformat_minor": 5
}
