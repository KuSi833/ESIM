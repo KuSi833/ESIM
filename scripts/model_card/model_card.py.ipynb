{
 "cells": [
  {
   "cell_type": "code",
   "execution_count": 1,
   "outputs": [],
   "source": [
    "from huggingface_hub import ModelCard, ModelCardData"
   ],
   "metadata": {
    "collapsed": false,
    "ExecuteTime": {
     "end_time": "2024-04-21T21:14:38.730386Z",
     "start_time": "2024-04-21T21:14:38.594336Z"
    }
   },
   "id": "933f811870dd5c18"
  },
  {
   "cell_type": "code",
   "execution_count": 11,
   "outputs": [
    {
     "name": "stderr",
     "output_type": "stream",
     "text": [
      "Repo card metadata block was not found. Setting CardData to empty.\n"
     ]
    }
   ],
   "source": [
    "card_data = ModelCardData(\n",
    "    language='en',\n",
    "    license='cc-by-4.0',\n",
    "    tags=['text-classification'],\n",
    "    # change the line below to specify the URL to your Github/Gitlab repo\n",
    "    repo=\"https://github.com/KuSi833/ESIM\",\n",
    "    ignore_metadata_errors=True)\n",
    "\n",
    "card = ModelCard.from_template(\n",
    "    card_data = card_data,\n",
    "    template_path='COMP34812_modelcard_template.md',\n",
    "    # change the following line to indicate your respective usernames\n",
    "    # and the abbreviation of the relevant track name, e.g., NLI, ED, AV\n",
    "    model_id = 'r90461cc-e14912km-NLI',\n",
    "\n",
    "    # the following lines were provided to give you an example value for each attribute\n",
    "    model_summary = '''This model extends the ESIM architecture for the Natural Language Inference task, \n",
    "    aiming to determine if one sentence logically follows from another.''',\n",
    "    model_description = '''This model is based on the ESIM architecture, enhanced for better performance \n",
    "    in sequential inference tasks. It utilizes attention mechanisms and recurrent neural networks.''',\n",
    "    developers = 'Claudiu Crăciun and Karlo Milicic', # TODO: Are these our names or the original author names?\n",
    "    base_model_repo = 'https://github.com/coetaur0/ESIM',\n",
    "    base_model_paper = 'https://arxiv.org/pdf/1609.06038.pdf',\n",
    "    model_type = 'Supervised',\n",
    "    model_architecture = 'RNN with attention mechanisms',\n",
    "    language = 'English',\n",
    "    training_data = 'More than 26K premise-hypothesis pairs are used for validation/testing',\n",
    "    hyperparameters = '''\n",
    "    - learning_rate: 0.0004\n",
    "    - train_batch_size: 32\n",
    "    - eval_batch_size: 32\n",
    "    - seed: 42\n",
    "    - hidden_size: 300\n",
    "    - dropout: 0.5\n",
    "    - num_epochs: 64\n",
    "    - patience: 5\n",
    "    - max_gradient_norm: 10.0\n",
    "    ''',\n",
    "    speeds_sizes_times = '''\n",
    "    - overall training time: 54.5611s\n",
    "    - duration per training epoch: 9 min 3 s\n",
    "    - model size: 92MB''',\n",
    "    testing_data = 'More than 6K premise-hypothesis pairs are used for validation/testing',\n",
    "    testing_metrics = '''\n",
    "    - Accuracy\n",
    "    - Macro Precision\n",
    "    - Macro Recall\n",
    "    - Macro F1 Score\n",
    "    - Weighted Precision\n",
    "    - Weighted Recall\n",
    "    - Weighted F1 Score\n",
    "    - Matthews Correlation Coefficient (MCC)\n",
    "    ''',\n",
    "    results = '''\n",
    "    - Accuracy: 70.11%\n",
    "    - Macro Precision: 70.42%\n",
    "    - Macro Recall: 69.85%\n",
    "    - Macro F1 Score: 69.79%\n",
    "    - Weighted Precision: 70.36%\n",
    "    - Weighted Recall: 70.11%\n",
    "    - Weighted F1 Score: 69.89%\n",
    "    - Matthews Correlation Coefficient (MCC): 40.27%\n",
    "    ''',\n",
    "    hardware_requirements = '''\n",
    "    - RAM: at least 8 GB\n",
    "    - Storage: at least 2GB,\n",
    "    - GPU: V100''',\n",
    "    software = '''\n",
    "    - Pytorch 1.11.0+cuda11.3+cudnn8''',\n",
    "    bias_risks_limitations = '''The model may exhibit biases inherent in the training data.''', # TODO\n",
    "    additional_information = '''The hyperparameters were selected based on a grid search to optimize performance on the validation set.'''\n",
    ")\n",
    "\n",
    "# the following lines will write a markdown (.md) file; this becomes one of your model cards\n",
    "# change the filename accordingly\n",
    "with open('my_model_card.md', 'w') as model_card:\n",
    "  model_card.write(card.content)"
   ],
   "metadata": {
    "collapsed": false,
    "ExecuteTime": {
     "end_time": "2024-04-21T21:21:21.747683Z",
     "start_time": "2024-04-21T21:21:21.740758Z"
    }
   },
   "id": "3b8443afe176f6be"
  },
  {
   "cell_type": "code",
   "execution_count": null,
   "outputs": [],
   "source": [],
   "metadata": {
    "collapsed": false
   },
   "id": "2284d403469dd83c"
  }
 ],
 "metadata": {
  "kernelspec": {
   "display_name": "Python 3",
   "language": "python",
   "name": "python3"
  },
  "language_info": {
   "codemirror_mode": {
    "name": "ipython",
    "version": 2
   },
   "file_extension": ".py",
   "mimetype": "text/x-python",
   "name": "python",
   "nbconvert_exporter": "python",
   "pygments_lexer": "ipython2",
   "version": "2.7.6"
  }
 },
 "nbformat": 4,
 "nbformat_minor": 5
}
