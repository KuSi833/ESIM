{
 "cells": [
  {
   "cell_type": "code",
   "execution_count": 15,
   "outputs": [],
   "source": [
    "from scripts.testing.test_rte_own import main as test\n",
    "from scripts.evaluation.evaluate import main as evaluate"
   ],
   "metadata": {
    "collapsed": false,
    "ExecuteTime": {
     "end_time": "2024-04-21T20:40:12.429754Z",
     "start_time": "2024-04-21T20:40:12.427556Z"
    }
   },
   "id": "f2a4971d29e43fc9"
  },
  {
   "cell_type": "code",
   "execution_count": 16,
   "id": "initial_id",
   "metadata": {
    "collapsed": true,
    "ExecuteTime": {
     "end_time": "2024-04-21T20:40:12.677777Z",
     "start_time": "2024-04-21T20:40:12.672925Z"
    }
   },
   "outputs": [],
   "source": [
    "PREPROCESSED_TEST_DATA_PATH = \"../../data/preprocessed/RTE_own/test_data.pkl\"\n",
    "CHECKPOINT_PATH = \"../../data/checkpoints/RTE_own/best.pth.tar\""
   ]
  },
  {
   "cell_type": "code",
   "execution_count": 17,
   "outputs": [
    {
     "name": "stdout",
     "output_type": "stream",
     "text": [
      "====================  Preparing for testing  ====================\n",
      "\t* Loading test data...\n",
      "\t* Building model...\n",
      "====================  Testing ESIM model on device: cpu  ====================\n"
     ]
    },
    {
     "name": "stderr",
     "output_type": "stream",
     "text": [
      "Processing batches:   0%|          | 0/211 [00:00<?, ?it/s]/Users/kmilicic/Coding/University_of_Manchester/natural_language_understanding/ESIM/src/utils.py:44: UserWarning: To copy construct from a tensor, it is recommended to use sourceTensor.clone().detach() or sourceTensor.clone().detach().requires_grad_(True), rather than tensor.new_tensor(sourceTensor).\n",
      "  sequences_lengths.new_tensor(torch.arange(0, len(sequences_lengths))).to(device)\n",
      "Processing batches: 100%|██████████| 211/211 [01:07<00:00,  3.12it/s]"
     ]
    },
    {
     "name": "stdout",
     "output_type": "stream",
     "text": [
      "-> Average batch processing time: 0.3195s, total test time: 67.6307s\n"
     ]
    },
    {
     "name": "stderr",
     "output_type": "stream",
     "text": [
      "\n"
     ]
    }
   ],
   "source": [
    "test(PREPROCESSED_TEST_DATA_PATH, CHECKPOINT_PATH)"
   ],
   "metadata": {
    "collapsed": false,
    "ExecuteTime": {
     "end_time": "2024-04-21T20:41:21.660715Z",
     "start_time": "2024-04-21T20:40:12.945444Z"
    }
   },
   "id": "982c8a575f1f51f8"
  },
  {
   "cell_type": "code",
   "execution_count": 18,
   "outputs": [],
   "source": [
    "TEST_DATA_PATH = \"../../data/dataset/RTE_own/dev.csv\"\n",
    "PREDICTIONS_PATH = \"../../data/results/RTE_own/predictions.csv\""
   ],
   "metadata": {
    "collapsed": false,
    "ExecuteTime": {
     "end_time": "2024-04-21T20:41:21.663459Z",
     "start_time": "2024-04-21T20:41:21.660556Z"
    }
   },
   "id": "34d2993d7abf0170"
  },
  {
   "cell_type": "code",
   "execution_count": 19,
   "outputs": [
    {
     "name": "stdout",
     "output_type": "stream",
     "text": [
      "Accuracy: 70.11%\n",
      "Macro Precision: 70.42%\n",
      "Macro Recall: 69.85%\n",
      "Macro F1 Score: 69.79%\n",
      "Weighted Precision: 70.36%\n",
      "Weighted Recall: 70.11%\n",
      "Weighted F1 Score: 69.89%\n",
      "Matthews Correlation Coefficient (MCC): 40.27%\n"
     ]
    }
   ],
   "source": [
    "evaluate(TEST_DATA_PATH, PREDICTIONS_PATH)"
   ],
   "metadata": {
    "collapsed": false,
    "ExecuteTime": {
     "end_time": "2024-04-21T20:41:21.699974Z",
     "start_time": "2024-04-21T20:41:21.663425Z"
    }
   },
   "id": "9a328ec2bc9eb7ee"
  }
 ],
 "metadata": {
  "kernelspec": {
   "display_name": "Python 3",
   "language": "python",
   "name": "python3"
  },
  "language_info": {
   "codemirror_mode": {
    "name": "ipython",
    "version": 2
   },
   "file_extension": ".py",
   "mimetype": "text/x-python",
   "name": "python",
   "nbconvert_exporter": "python",
   "pygments_lexer": "ipython2",
   "version": "2.7.6"
  }
 },
 "nbformat": 4,
 "nbformat_minor": 5
}
